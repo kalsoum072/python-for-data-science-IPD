{
 "cells": [
  {
   "cell_type": "markdown",
   "metadata": {},
   "source": [
    "# Fonctions"
   ]
  },
  {
   "cell_type": "markdown",
   "metadata": {},
   "source": [
    "<br>Ecriver une fonction **add_numbers** qui prend en entrée deux nombres et fait la somme des deux."
   ]
  },
  {
   "cell_type": "markdown",
   "metadata": {},
   "source": [
    "Mettre à jour la fonction **add_numbers** en ajoutant un argument optionnel"
   ]
  },
  {
   "cell_type": "markdown",
   "metadata": {},
   "source": [
    "# Listes, tuples, dictionnaires\n",
    "\n",
    "+ Créer un dictionnaire nommé photo, comprenant les couples clés-valeurs suivants :\n",
    "\n",
    "    * clé : id, valeur : 1,\n",
    "    * clé : description, valeur : Une photo du Vieux-port de Marseille,\n",
    "    * clé : loc, valeur : une liste dans laquelle sont données les coordonnées suivantes 5.3772133, 43.302424. \n",
    "\n",
    "+ Ajouter le couple de clé-valeur suivant au dictionnaire photo : clé : utilisateur, valeur : bob.\n",
    "+ Rechercher s’il existe une entrée dont la clé vaut description dans le dictionnaire photo. Si tel est le cas, afficher l’entrée correspondante (clé et valeur).\n",
    "+ Supprimer l’entrée dans photo dont la clé vaut utilisateur.\n",
    "+ Modifier la valeur de l’entrée loc dans le dictionnaire photo, pour proposer une nouvelle liste, dont les coordonnées sont les suivantes : 5.3692712 et 43.2949627."
   ]
  }
 ],
 "metadata": {
  "kernelspec": {
   "display_name": "Python 3",
   "language": "python",
   "name": "python3"
  },
  "language_info": {
   "codemirror_mode": {
    "name": "ipython",
    "version": 3
   },
   "file_extension": ".py",
   "mimetype": "text/x-python",
   "name": "python",
   "nbconvert_exporter": "python",
   "pygments_lexer": "ipython3",
   "version": "3.7.4"
  }
 },
 "nbformat": 4,
 "nbformat_minor": 2
}
